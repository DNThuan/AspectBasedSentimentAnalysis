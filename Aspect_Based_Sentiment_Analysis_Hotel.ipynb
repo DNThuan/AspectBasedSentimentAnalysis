{
  "nbformat": 4,
  "nbformat_minor": 0,
  "metadata": {
    "colab": {
      "name": "Aspect_Based_Sentiment_Analysis_Hotel.ipynb",
      "provenance": [],
      "collapsed_sections": [],
      "toc_visible": true,
      "mount_file_id": "1ZBhST3xqrymV-A_0NRtmb43VhIY4oCj-",
      "authorship_tag": "ABX9TyMqwyS8DwqEn7F98/0Uowlu",
      "include_colab_link": true
    },
    "kernelspec": {
      "name": "python3",
      "display_name": "Python 3"
    },
    "language_info": {
      "name": "python"
    }
  },
  "cells": [
    {
      "cell_type": "markdown",
      "metadata": {
        "id": "view-in-github",
        "colab_type": "text"
      },
      "source": [
        "<a href=\"https://colab.research.google.com/github/DNThuan/AspectBasedSentimentAnalysis/blob/main/Aspect_Based_Sentiment_Analysis_Hotel.ipynb\" target=\"_parent\"><img src=\"https://colab.research.google.com/assets/colab-badge.svg\" alt=\"Open In Colab\"/></a>"
      ]
    },
    {
      "cell_type": "code",
      "metadata": {
        "colab": {
          "base_uri": "https://localhost:8080/"
        },
        "id": "Jhh1VtDviF0J",
        "outputId": "489b8f7c-0b00-4cc9-e07f-d99e2ebc8a45"
      },
      "source": [
        "!git clone -q https://github.com/DNThuan/AspectBasedSentimentAnalysis.git\n",
        "!pwd\n",
        "!ls"
      ],
      "execution_count": 1,
      "outputs": [
        {
          "output_type": "stream",
          "name": "stdout",
          "text": [
            "/content\n",
            "AspectBasedSentimentAnalysis  sample_data\n"
          ]
        }
      ]
    },
    {
      "cell_type": "markdown",
      "metadata": {
        "id": "gO6AGIoIb_Hh"
      },
      "source": [
        "# 1) Read data"
      ]
    },
    {
      "cell_type": "code",
      "metadata": {
        "id": "0FdGy4VyiYPe"
      },
      "source": [
        "import numpy as np"
      ],
      "execution_count": 2,
      "outputs": []
    },
    {
      "cell_type": "code",
      "metadata": {
        "id": "_tknJtJPTYYr"
      },
      "source": [
        "def read_data(path):\n",
        "  with open(path) as f:\n",
        "    data = f.read().split(\"\\n\\n\")\n",
        "  f.close()\n",
        "  for i in range(len(data)):\n",
        "    temp=data[i].split(\"\\n\")\n",
        "    data[i]=temp[1:3]\n",
        "  return data"
      ],
      "execution_count": 3,
      "outputs": []
    },
    {
      "cell_type": "code",
      "metadata": {
        "colab": {
          "base_uri": "https://localhost:8080/"
        },
        "id": "m1omtbZ7TZan",
        "outputId": "f46c0bcb-7c4b-49e3-a79b-ca601f5900c4"
      },
      "source": [
        "path_train = \"/content/AspectBasedSentimentAnalysis/VLSP2018_SA_Hotel/1-VLSP2018-SA-Hotel-train (7-3-2018).txt\"\n",
        "path_dev =  \"/content/AspectBasedSentimentAnalysis/VLSP2018_SA_Hotel/2-VLSP2018-SA-Hotel-dev (7-3-2018).txt\"\n",
        "path_test = \"/content/AspectBasedSentimentAnalysis/VLSP2018_SA_Hotel/3-VLSP2018-SA-Hotel-test (8-3-2018).txt\"\n",
        "\n",
        "train = np.array(read_data(path_train))\n",
        "dev = np.array(read_data(path_dev))\n",
        "test = np.array(read_data(path_test))\n",
        "\n",
        "print(\"Train: \",train.shape)\n",
        "print(\"Dev: \",dev.shape)\n",
        "print(\"Test: \",test.shape)\n"
      ],
      "execution_count": 4,
      "outputs": [
        {
          "output_type": "stream",
          "name": "stdout",
          "text": [
            "Train:  (3000, 2)\n",
            "Dev:  (2000, 2)\n",
            "Test:  (600, 2)\n"
          ]
        }
      ]
    },
    {
      "cell_type": "markdown",
      "metadata": {
        "id": "VoygYsSrcDnl"
      },
      "source": [
        "#2) Preprocessing data"
      ]
    },
    {
      "cell_type": "markdown",
      "metadata": {
        "id": "zKm0ffl9j11w"
      },
      "source": [
        "## 2.1 Review data"
      ]
    },
    {
      "cell_type": "markdown",
      "metadata": {
        "id": "l9tCv_allrO9"
      },
      "source": [
        "### 2.1.1 Delete emoji"
      ]
    },
    {
      "cell_type": "code",
      "metadata": {
        "id": "m85xFJgmkg1l"
      },
      "source": [
        "!pip install -q emoji\n",
        "import emoji\n",
        "from sklearn.preprocessing import  FunctionTransformer\n",
        "\n",
        "def Delete_emoji(texts):\n",
        "    return np.array([emoji.get_emoji_regexp().sub('', text) for text in texts])\n",
        "\n",
        "delete_emoji = FunctionTransformer(Delete_emoji)"
      ],
      "execution_count": 240,
      "outputs": []
    },
    {
      "cell_type": "markdown",
      "metadata": {
        "id": "RvN1ij13muYn"
      },
      "source": [
        "### 2.1.2 Replace value of money by special character"
      ]
    },
    {
      "cell_type": "code",
      "metadata": {
        "id": "YmGl47x8mttE"
      },
      "source": [
        "import re\n",
        "\n",
        "def Replace_Symbol(texts):\n",
        "  texts_result = []\n",
        "  for text in texts:\n",
        "    distance_pattern = \"([0-9.,]{1,9}?.km)|([0-9.,]{1,9}?.cây số)|([0-9.,]{1,9}?.cây)|([0-9.,]{1,9}?.mét)|([0-9.,]{1,3}?.m)\"\n",
        "    text_result = re.sub(distance_pattern, 'khoang_cach', text)\n",
        "    money_pattern = \"(\\d{1,3}k.{0})|([0-9.]{1,9}?.vnd)|([0-9.]{1,9}?.việt nam đồng)|([0-9.]{1,9}?.đồng)\"\n",
        "    text_result = re.sub(money_pattern, 'gia_tien', text_result)\n",
        "    texts_result.append(text_result)\n",
        "  return texts_result\n",
        "replace_symbol = FunctionTransformer(Replace_Symbol)"
      ],
      "execution_count": 241,
      "outputs": []
    },
    {
      "cell_type": "markdown",
      "metadata": {
        "id": "41DN85JiphwB"
      },
      "source": [
        "### 2.1.3 Delete special character"
      ]
    },
    {
      "cell_type": "code",
      "metadata": {
        "id": "5HzCKKYIpr4E"
      },
      "source": [
        "def Delete_Special_Character(texts):\n",
        "  texts_result = []\n",
        "  for text in texts:\n",
        "    special_character_pattern = \"[+=<>@#$%^&~]\"\n",
        "    text_result = re.sub(special_character_pattern, '', text)\n",
        "    words = text_result.split()\n",
        "    text_result = ' '.join(words)\n",
        "    texts_result.append(text_result)\n",
        "  return texts_result\n",
        "delete_special_character = FunctionTransformer(Delete_Special_Character)"
      ],
      "execution_count": 242,
      "outputs": []
    },
    {
      "cell_type": "markdown",
      "metadata": {
        "id": "3yUljmyDqwC1"
      },
      "source": [
        "### 2.1.4 Normalize elongate words"
      ]
    },
    {
      "cell_type": "code",
      "metadata": {
        "id": "-GuY4xhrqxG7"
      },
      "source": [
        "def Normalize_Elongate_Words(texts):\n",
        "  texts_result = []\n",
        "  for text in texts:\n",
        "    elongate_pattern = r\"(\\w)\\1*\"\n",
        "    text_result = re.sub(elongate_pattern, r'\\1', text)\n",
        "    texts_result.append(text_result)\n",
        "  return texts_result\n",
        "normalize_elongate_words = FunctionTransformer(Normalize_Elongate_Words)"
      ],
      "execution_count": 243,
      "outputs": []
    },
    {
      "cell_type": "markdown",
      "metadata": {
        "id": "rxltn5RxrqOG"
      },
      "source": [
        "### 2.1.5 Replace negative words"
      ]
    },
    {
      "cell_type": "code",
      "metadata": {
        "id": "pNvzfzCarBLy"
      },
      "source": [
        "def Replace_Negative_Words(texts):\n",
        "  texts_result = []\n",
        "  for text in texts:\n",
        "    negative_pattern = r\"\\bkh|\\bko|\\bkhg|\\bkhong|\\bk|\\bhông|\\bhem\"\n",
        "    text_result = re.sub(negative_pattern, 'không', text)\n",
        "    texts_result.append(text_result)\n",
        "  return texts_result\n",
        "replace_negative_words = FunctionTransformer(Replace_Negative_Words)"
      ],
      "execution_count": 244,
      "outputs": []
    },
    {
      "cell_type": "markdown",
      "metadata": {
        "id": "ShEHUVV6sxrm"
      },
      "source": [
        "## 2.2 Tag data"
      ]
    },
    {
      "cell_type": "markdown",
      "metadata": {
        "id": "kL7UZhs6s2n3"
      },
      "source": [
        "### 2.2.1 Label separation"
      ]
    },
    {
      "cell_type": "code",
      "metadata": {
        "id": "sYaU70BJs6bw"
      },
      "source": [
        "# Tìm vị trí các cặp dấu ngoặc\n",
        "# Input: một nhãn dạng string\n",
        "def find_start_end(label):\n",
        "  start = 0\n",
        "  end = 0\n",
        "  lst_start=[]\n",
        "  lst_end=[]\n",
        "  for index ,char in enumerate(label):\n",
        "    if char == \"{\":\n",
        "      start = index\n",
        "      lst_start.append(start)\n",
        "    elif char == \"}\":\n",
        "      end = index\n",
        "      lst_end.append(end)\n",
        "  return tuple(zip(lst_start,lst_end))"
      ],
      "execution_count": 10,
      "outputs": []
    },
    {
      "cell_type": "code",
      "metadata": {
        "id": "l9ATiZJ2iLW-"
      },
      "source": [
        "# Xóa dấu ngoặc\n",
        "# Input: một nhãn dạng string\n",
        "def Label_str_to_list(label):\n",
        "  index = tuple(find_start_end(label))\n",
        "  aspect_temp=[]\n",
        "  polarity_temp=[]\n",
        "  for i in index:\n",
        "    temp = label[i[0]+1:i[1]].replace(\" \",\"\").split(\",\")\n",
        "    aspect_temp.append(temp[0])\n",
        "    polarity_temp.append(temp[1])\n",
        "  return aspect_temp, polarity_temp"
      ],
      "execution_count": 11,
      "outputs": []
    },
    {
      "cell_type": "code",
      "metadata": {
        "id": "q-sxtCP7tnv-"
      },
      "source": [
        "# Tách thành 2 tầng label/ 1 tầng\n",
        "def separate_label(labels):\n",
        "  aspect= []\n",
        "  polarity = []\n",
        "  SA = []\n",
        "  for label in labels:\n",
        "    temp = Label_str_to_list(label)\n",
        "    aspect.append(temp[0])\n",
        "    polarity.append(temp[1])\n",
        "\n",
        "    sa_temp= []\n",
        "    for i in range(len(temp[0])):\n",
        "      sa = temp[0][i]+\":\"+temp[1][i]\n",
        "      sa_temp.append(sa)\n",
        "    SA.append(sa_temp)\n",
        "\n",
        "  return np.array(aspect), np.array(polarity), np.array(SA)"
      ],
      "execution_count": 12,
      "outputs": []
    },
    {
      "cell_type": "markdown",
      "metadata": {
        "id": "c8YvF51t6z5T"
      },
      "source": [
        "### 2.2.2 Binary Label"
      ]
    },
    {
      "cell_type": "code",
      "metadata": {
        "id": "XO5FGIhIHECy"
      },
      "source": [
        "# Load list label\n",
        "import json\n",
        "\n",
        "def read_label(path):\n",
        "  with open(path) as f:\n",
        "    data = json.load(f)\n",
        "  f.close()\n",
        "  return data\n",
        "\n",
        "aspect_path = \"/content/AspectBasedSentimentAnalysis/Label/aspect.json\"\n",
        "polarity_path = \"/content/AspectBasedSentimentAnalysis/Label/polarity.json\"\n",
        "SA_path = \"/content/AspectBasedSentimentAnalysis/Label/SA.json\"\n",
        "\n",
        "aspect_labels = read_label(aspect_path)\n",
        "polarity_labels = read_label(polarity_path)\n",
        "SA_labels = read_label(SA_path)\n"
      ],
      "execution_count": 21,
      "outputs": []
    },
    {
      "cell_type": "code",
      "metadata": {
        "id": "v3oZf0N2680n"
      },
      "source": [
        "from sklearn.preprocessing import MultiLabelBinarizer\n",
        "transform_label = MultiLabelBinarizer().fit([SA_labels])\n"
      ],
      "execution_count": 55,
      "outputs": []
    },
    {
      "cell_type": "code",
      "metadata": {
        "id": "FbOTE8_4b_hE"
      },
      "source": [
        "def make_dict_classes(list_classes):\n",
        "  dic_classes = dict()\n",
        "  for index, classes in enumerate(list_classes):\n",
        "    dic_classes[index] = classes\n",
        "  return dic_classes"
      ],
      "execution_count": 108,
      "outputs": []
    },
    {
      "cell_type": "code",
      "metadata": {
        "id": "t5g8NRy_bv2w"
      },
      "source": [
        "def show_label(label_binary):\n",
        "  dic_classes = make_dict_classes(transform_label.classes_)\n",
        "  lst_index = []\n",
        "  for index, value in enumerate(label_binary):\n",
        "    if value == 1:\n",
        "      lst_index.append(dic_classes[index])\n",
        "  print(lst_index)"
      ],
      "execution_count": 112,
      "outputs": []
    },
    {
      "cell_type": "markdown",
      "metadata": {
        "id": "3YXfZoru5yD4"
      },
      "source": [
        "# 3) Training"
      ]
    },
    {
      "cell_type": "markdown",
      "metadata": {
        "id": "y3-g3AyHY0nR"
      },
      "source": [
        "## 3.1 Get data"
      ]
    },
    {
      "cell_type": "code",
      "metadata": {
        "id": "tvkjQtzoX3QX"
      },
      "source": [
        "X_train, y_train = train[:,0], train[:,1]\n",
        "X_dev,   y_dev   = dev[:,0],   dev[:,1]\n",
        "X_test,  y_test  = test[:,0],  test[:,1]"
      ],
      "execution_count": 289,
      "outputs": []
    },
    {
      "cell_type": "code",
      "metadata": {
        "colab": {
          "base_uri": "https://localhost:8080/"
        },
        "id": "oVoP22pLaDgy",
        "outputId": "eb626378-d183-4581-b249-4e23198e7290"
      },
      "source": [
        "print(X_train[0], type(X_train[0]))"
      ],
      "execution_count": 80,
      "outputs": [
        {
          "output_type": "stream",
          "name": "stdout",
          "text": [
            "Rộng rãi KS mới nhưng rất vắng. Các dịch vụ chất lượng chưa cao và thiếu. <class 'numpy.str_'>\n"
          ]
        }
      ]
    },
    {
      "cell_type": "code",
      "metadata": {
        "colab": {
          "base_uri": "https://localhost:8080/"
        },
        "id": "qVrOWBfNaHOP",
        "outputId": "f5fdc5e3-4c76-4c64-a306-ce4420336c63"
      },
      "source": [
        "print(y_train[1],type(y_train[1]))"
      ],
      "execution_count": 102,
      "outputs": [
        {
          "output_type": "stream",
          "name": "stdout",
          "text": [
            "{LOCATION#GENERAL, positive} <class 'numpy.str_'>\n"
          ]
        }
      ]
    },
    {
      "cell_type": "markdown",
      "metadata": {
        "id": "Bg2XLquGYFuf"
      },
      "source": [
        "## 3.2 Transform label"
      ]
    },
    {
      "cell_type": "markdown",
      "metadata": {
        "id": "pDUvpCgpbQdK"
      },
      "source": [
        "### 3.1.1 Nomalizer label"
      ]
    },
    {
      "cell_type": "code",
      "metadata": {
        "colab": {
          "base_uri": "https://localhost:8080/"
        },
        "id": "2kiTdVkfaW0H",
        "outputId": "f880f018-e9d1-4c9b-a095-61635e46407b"
      },
      "source": [
        "y_train_merged = separate_label(y_train)[2]\n",
        "y_dev_merged = separate_label(y_dev)[2]\n",
        "y_test_merged = separate_label(y_test)[2]"
      ],
      "execution_count": 290,
      "outputs": [
        {
          "output_type": "stream",
          "name": "stderr",
          "text": [
            "/usr/local/lib/python3.7/dist-packages/ipykernel_launcher.py:17: VisibleDeprecationWarning: Creating an ndarray from ragged nested sequences (which is a list-or-tuple of lists-or-tuples-or ndarrays with different lengths or shapes) is deprecated. If you meant to do this, you must specify 'dtype=object' when creating the ndarray\n"
          ]
        }
      ]
    },
    {
      "cell_type": "markdown",
      "metadata": {
        "id": "Goi7XlnCbglF"
      },
      "source": [
        "### 3.1.2 Covert label to binary"
      ]
    },
    {
      "cell_type": "code",
      "metadata": {
        "colab": {
          "base_uri": "https://localhost:8080/"
        },
        "id": "FFwWCGX2Y7dm",
        "outputId": "455d2191-3ade-4e8a-f258-e324c8b248d2"
      },
      "source": [
        "y_train_tf = transform_label.transform(y_train_merged)\n",
        "y_dev_tf = transform_label.transform(y_dev_merged)\n",
        "y_test_tf = transform_label.transform(y_test_merged)"
      ],
      "execution_count": 291,
      "outputs": [
        {
          "output_type": "stream",
          "name": "stderr",
          "text": [
            "/usr/local/lib/python3.7/dist-packages/sklearn/preprocessing/_label.py:987: UserWarning: unknown class(es) ['HOTEL#CLEANLINESS:neutral', 'HOTEL#COMFORT:neutral', 'HOTEL#DESIGN&FEATURES:neutral', 'HOTEL#GENERAL:neutral', 'HOTEL#PRICES:neutral', 'HOTEL#QUALITY:neutral', 'ROOMS#CLEANLINESS:neutral', 'ROOMS#COMFORT:neutral', 'ROOMS#DESIGN&FEATURES:neutral', 'ROOMS#GENERAL:neutral', 'ROOMS#PRICES:neutral', 'ROOMS#QUALITY:neutral'] will be ignored\n",
            "  .format(sorted(unknown, key=str)))\n",
            "/usr/local/lib/python3.7/dist-packages/sklearn/preprocessing/_label.py:987: UserWarning: unknown class(es) ['HOTEL#CLEANLINESS:neutral', 'HOTEL#COMFORT:neutral', 'HOTEL#DESIGN&FEATURES:neutral', 'HOTEL#GENERAL:neutral', 'HOTEL#MISCELLANEOUS:neutral', 'HOTEL#PRICES:neutral', 'ROOMS#CLEANLINESS:neutral', 'ROOMS#COMFORT:neutral', 'ROOMS#DESIGN&FEATURES:neutral', 'ROOMS#GENERAL:neutral'] will be ignored\n",
            "  .format(sorted(unknown, key=str)))\n",
            "/usr/local/lib/python3.7/dist-packages/sklearn/preprocessing/_label.py:987: UserWarning: unknown class(es) ['HOTEL#COMFORT:neutral', 'HOTEL#DESIGN&FEATURES:neutral', 'HOTEL#GENERAL:neutral', 'HOTEL#MISCELLANEOUS:neutral', 'HOTEL#PRICES:neutral', 'HOTEL#QUALITY:neutral', 'ROOMS#CLEANLINESS:neutral', 'ROOMS#COMFORT:neutral', 'ROOMS#DESIGN&FEATURES:neutral', 'ROOMS#GENERAL:neutral', 'ROOMS#MISCELLANEOUS:neutral'] will be ignored\n",
            "  .format(sorted(unknown, key=str)))\n"
          ]
        }
      ]
    },
    {
      "cell_type": "markdown",
      "metadata": {
        "id": "0dHrqp0LYIK4"
      },
      "source": [
        "## 3.3 Make Pipeline"
      ]
    },
    {
      "cell_type": "code",
      "metadata": {
        "colab": {
          "base_uri": "https://localhost:8080/"
        },
        "id": "I9A_Z70517W6",
        "outputId": "3ed84cef-92a2-4f68-a344-844b57c948b0"
      },
      "source": [
        "from sklearn.pipeline import make_pipeline\n",
        "from sklearn.feature_extraction.text import TfidfVectorizer\n",
        "from sklearn.multioutput import MultiOutputClassifier\n",
        "from sklearn.ensemble import RandomForestClassifier\n",
        "\n",
        "preproceesing_data = make_pipeline(delete_emoji,\n",
        "                              replace_symbol,\n",
        "                              delete_special_character,\n",
        "                              normalize_elongate_words,\n",
        "                              replace_negative_words,\n",
        "                              TfidfVectorizer(sublinear_tf=True, min_df=5, ngram_range=(1,2), stop_words='english'))\n",
        "\n",
        "RFC = RandomForestClassifier(random_state=42)\n",
        "\n",
        "model = make_pipeline(preproceesing_data,\n",
        "                      MultiOutputClassifier(RFC, n_jobs=-1))\n",
        "model.fit(X_train,y_train_tf)"
      ],
      "execution_count": 283,
      "outputs": [
        {
          "output_type": "execute_result",
          "data": {
            "text/plain": [
              "Pipeline(memory=None,\n",
              "         steps=[('pipeline',\n",
              "                 Pipeline(memory=None,\n",
              "                          steps=[('functiontransformer-1',\n",
              "                                  FunctionTransformer(accept_sparse=False,\n",
              "                                                      check_inverse=True,\n",
              "                                                      func=<function Delete_emoji at 0x7fd0d42380e0>,\n",
              "                                                      inv_kw_args=None,\n",
              "                                                      inverse_func=None,\n",
              "                                                      kw_args=None,\n",
              "                                                      validate=False)),\n",
              "                                 ('functiontransformer-2',\n",
              "                                  FunctionTransformer(accept_sparse=False,\n",
              "                                                      check_inverse=True,\n",
              "                                                      func=...\n",
              "                                                                        ccp_alpha=0.0,\n",
              "                                                                        class_weight=None,\n",
              "                                                                        criterion='gini',\n",
              "                                                                        max_depth=None,\n",
              "                                                                        max_features='auto',\n",
              "                                                                        max_leaf_nodes=None,\n",
              "                                                                        max_samples=None,\n",
              "                                                                        min_impurity_decrease=0.0,\n",
              "                                                                        min_impurity_split=None,\n",
              "                                                                        min_samples_leaf=1,\n",
              "                                                                        min_samples_split=2,\n",
              "                                                                        min_weight_fraction_leaf=0.0,\n",
              "                                                                        n_estimators=100,\n",
              "                                                                        n_jobs=None,\n",
              "                                                                        oob_score=False,\n",
              "                                                                        random_state=42,\n",
              "                                                                        verbose=0,\n",
              "                                                                        warm_start=False),\n",
              "                                       n_jobs=-1))],\n",
              "         verbose=False)"
            ]
          },
          "metadata": {},
          "execution_count": 283
        }
      ]
    },
    {
      "cell_type": "code",
      "metadata": {
        "id": "gvuatJNo4TTL"
      },
      "source": [
        "from sklearn import metrics\n",
        "\n",
        "def score(y_true, y_pred):\n",
        "  print(\"Precison: \",metrics.precision_score(y_true, y_pred, average='micro'))\n",
        "  print(\"Recall: \",metrics.recall_score(y_true, y_pred, average='micro'))\n",
        "  print(\"F1: \",metrics.f1_score(y_true, y_pred, average='micro'))\n"
      ],
      "execution_count": 294,
      "outputs": []
    },
    {
      "cell_type": "code",
      "metadata": {
        "colab": {
          "base_uri": "https://localhost:8080/"
        },
        "id": "qtUw4Y9C2-Rx",
        "outputId": "265e1b67-791c-4021-c7a1-142af6af8bed"
      },
      "source": [
        "predict = model.predict(X_dev)\n",
        "score(y_dev_tf,predict)"
      ],
      "execution_count": 295,
      "outputs": [
        {
          "output_type": "stream",
          "name": "stdout",
          "text": [
            "Precison:  0.8813397129186603\n",
            "Recall:  0.39236012496449874\n",
            "F1:  0.5429890930529626\n"
          ]
        }
      ]
    },
    {
      "cell_type": "code",
      "metadata": {
        "colab": {
          "base_uri": "https://localhost:8080/"
        },
        "id": "EeBAh_UG9RXf",
        "outputId": "91a0b154-5851-4564-f428-b4d3a0b0b4be"
      },
      "source": [
        "predict = model.predict(X_test)\n",
        "score(y_test_tf,predict)"
      ],
      "execution_count": 296,
      "outputs": [
        {
          "output_type": "stream",
          "name": "stdout",
          "text": [
            "Precison:  0.8646209386281588\n",
            "Recall:  0.3783570300157978\n",
            "F1:  0.5263736263736264\n"
          ]
        }
      ]
    },
    {
      "cell_type": "code",
      "metadata": {
        "colab": {
          "base_uri": "https://localhost:8080/"
        },
        "id": "WKmoqSW14UFx",
        "outputId": "c76d4383-7e61-4476-efa6-2c79b8691305"
      },
      "source": [
        "print(metrics.classification_report(y_dev_tf,predict, target_names=transform_label.classes_))"
      ],
      "execution_count": 262,
      "outputs": [
        {
          "output_type": "stream",
          "name": "stdout",
          "text": [
            "                                         precision    recall  f1-score   support\n",
            "\n",
            "        FACILITIES#CLEANLINESS:negative       0.00      0.00      0.00         8\n",
            "         FACILITIES#CLEANLINESS:neutral       0.00      0.00      0.00         0\n",
            "        FACILITIES#CLEANLINESS:positive       0.00      0.00      0.00        15\n",
            "            FACILITIES#COMFORT:negative       0.00      0.00      0.00        37\n",
            "             FACILITIES#COMFORT:neutral       0.00      0.00      0.00         0\n",
            "            FACILITIES#COMFORT:positive       0.00      0.00      0.00        32\n",
            "    FACILITIES#DESIGN&FEATURES:negative       1.00      0.07      0.13       119\n",
            "     FACILITIES#DESIGN&FEATURES:neutral       0.00      0.00      0.00         8\n",
            "    FACILITIES#DESIGN&FEATURES:positive       0.86      0.13      0.22        93\n",
            "            FACILITIES#GENERAL:negative       0.00      0.00      0.00         3\n",
            "             FACILITIES#GENERAL:neutral       0.00      0.00      0.00         1\n",
            "            FACILITIES#GENERAL:positive       0.00      0.00      0.00        58\n",
            "      FACILITIES#MISCELLANEOUS:negative       0.00      0.00      0.00         6\n",
            "       FACILITIES#MISCELLANEOUS:neutral       0.00      0.00      0.00         0\n",
            "      FACILITIES#MISCELLANEOUS:positive       0.00      0.00      0.00         1\n",
            "             FACILITIES#PRICES:negative       0.00      0.00      0.00        14\n",
            "              FACILITIES#PRICES:neutral       0.00      0.00      0.00         0\n",
            "             FACILITIES#PRICES:positive       0.00      0.00      0.00        22\n",
            "            FACILITIES#QUALITY:negative       1.00      0.02      0.03        63\n",
            "             FACILITIES#QUALITY:neutral       0.00      0.00      0.00         1\n",
            "            FACILITIES#QUALITY:positive       0.00      0.00      0.00        37\n",
            "     FOOD&DRINKS#MISCELLANEOUS:negative       0.00      0.00      0.00         4\n",
            "      FOOD&DRINKS#MISCELLANEOUS:neutral       0.00      0.00      0.00         0\n",
            "     FOOD&DRINKS#MISCELLANEOUS:positive       0.00      0.00      0.00         7\n",
            "            FOOD&DRINKS#PRICES:negative       0.00      0.00      0.00        12\n",
            "             FOOD&DRINKS#PRICES:neutral       0.00      0.00      0.00         1\n",
            "            FOOD&DRINKS#PRICES:positive       0.00      0.00      0.00        16\n",
            "           FOOD&DRINKS#QUALITY:negative       1.00      0.08      0.15        62\n",
            "            FOOD&DRINKS#QUALITY:neutral       0.00      0.00      0.00        15\n",
            "           FOOD&DRINKS#QUALITY:positive       0.96      0.62      0.75       346\n",
            "     FOOD&DRINKS#STYLE&OPTIONS:negative       1.00      0.28      0.43       167\n",
            "      FOOD&DRINKS#STYLE&OPTIONS:neutral       0.00      0.00      0.00         7\n",
            "     FOOD&DRINKS#STYLE&OPTIONS:positive       0.90      0.08      0.14       115\n",
            "                      HOTEL#CLEANLINESS       0.00      0.00      0.00         0\n",
            "             HOTEL#CLEANLINESS:negative       0.00      0.00      0.00        11\n",
            "             HOTEL#CLEANLINESS:positive       0.80      0.35      0.49       210\n",
            "                          HOTEL#COMFORT       0.00      0.00      0.00         0\n",
            "                 HOTEL#COMFORT:negative       1.00      0.02      0.03        65\n",
            "                 HOTEL#COMFORT:positive       0.75      0.35      0.48       342\n",
            "                  HOTEL#DESIGN&FEATURES       0.00      0.00      0.00         0\n",
            "         HOTEL#DESIGN&FEATURES:negative       0.00      0.00      0.00        54\n",
            "         HOTEL#DESIGN&FEATURES:positive       0.81      0.27      0.40       207\n",
            "                          HOTEL#GENERAL       0.00      0.00      0.00         0\n",
            "                 HOTEL#GENERAL:negative       1.00      0.04      0.07        28\n",
            "                 HOTEL#GENERAL:positive       0.90      0.54      0.68       388\n",
            "                    HOTEL#MISCELLANEOUS       0.00      0.00      0.00         0\n",
            "           HOTEL#MISCELLANEOUS:negative       0.00      0.00      0.00       102\n",
            "           HOTEL#MISCELLANEOUS:positive       0.00      0.00      0.00        41\n",
            "                           HOTEL#PRICES       0.00      0.00      0.00         0\n",
            "                  HOTEL#PRICES:negative       0.00      0.00      0.00        41\n",
            "                  HOTEL#PRICES:positive       0.78      0.48      0.60        93\n",
            "                          HOTEL#QUALITY       0.00      0.00      0.00         0\n",
            "                 HOTEL#QUALITY:negative       0.00      0.00      0.00        11\n",
            "                 HOTEL#QUALITY:positive       0.33      0.03      0.06        29\n",
            "              LOCATION#GENERAL:negative       0.67      0.23      0.34        43\n",
            "               LOCATION#GENERAL:neutral       0.00      0.00      0.00        19\n",
            "              LOCATION#GENERAL:positive       0.91      0.89      0.90       505\n",
            "                      ROOMS#CLEANLINESS       0.00      0.00      0.00         0\n",
            "             ROOMS#CLEANLINESS:negative       1.00      0.05      0.09        42\n",
            "             ROOMS#CLEANLINESS:positive       0.94      0.59      0.73       387\n",
            "                          ROOMS#COMFORT       0.00      0.00      0.00         0\n",
            "                 ROOMS#COMFORT:negative       1.00      0.01      0.02        88\n",
            "                 ROOMS#COMFORT:positive       0.67      0.01      0.02       187\n",
            "                  ROOMS#DESIGN&FEATURES       0.00      0.00      0.00         0\n",
            "         ROOMS#DESIGN&FEATURES:negative       0.87      0.28      0.42       188\n",
            "         ROOMS#DESIGN&FEATURES:positive       0.87      0.39      0.54       258\n",
            "                          ROOMS#GENERAL       0.00      0.00      0.00         0\n",
            "                 ROOMS#GENERAL:negative       1.00      0.05      0.10        20\n",
            "                 ROOMS#GENERAL:positive       1.00      0.03      0.06        66\n",
            "                    ROOMS#MISCELLANEOUS       0.00      0.00      0.00         0\n",
            "           ROOMS#MISCELLANEOUS:negative       0.00      0.00      0.00         5\n",
            "           ROOMS#MISCELLANEOUS:positive       0.00      0.00      0.00         1\n",
            "                           ROOMS#PRICES       0.00      0.00      0.00         0\n",
            "                  ROOMS#PRICES:negative       0.00      0.00      0.00        16\n",
            "                  ROOMS#PRICES:positive       1.00      0.03      0.05        40\n",
            "                          ROOMS#QUALITY       0.00      0.00      0.00         0\n",
            "                 ROOMS#QUALITY:negative       0.00      0.00      0.00         3\n",
            "                 ROOMS#QUALITY:positive       0.00      0.00      0.00         3\n",
            "    ROOM_AMENITIES#CLEANLINESS:negative       0.00      0.00      0.00        36\n",
            "     ROOM_AMENITIES#CLEANLINESS:neutral       0.00      0.00      0.00         4\n",
            "    ROOM_AMENITIES#CLEANLINESS:positive       0.00      0.00      0.00        66\n",
            "        ROOM_AMENITIES#COMFORT:negative       0.00      0.00      0.00        77\n",
            "         ROOM_AMENITIES#COMFORT:neutral       0.00      0.00      0.00         7\n",
            "        ROOM_AMENITIES#COMFORT:positive       0.00      0.00      0.00       159\n",
            "ROOM_AMENITIES#DESIGN&FEATURES:negative       1.00      0.01      0.01       278\n",
            " ROOM_AMENITIES#DESIGN&FEATURES:neutral       0.00      0.00      0.00        28\n",
            "ROOM_AMENITIES#DESIGN&FEATURES:positive       1.00      0.02      0.04       111\n",
            "        ROOM_AMENITIES#GENERAL:negative       0.00      0.00      0.00        11\n",
            "         ROOM_AMENITIES#GENERAL:neutral       0.00      0.00      0.00         2\n",
            "        ROOM_AMENITIES#GENERAL:positive       0.71      0.42      0.53        57\n",
            "  ROOM_AMENITIES#MISCELLANEOUS:negative       0.00      0.00      0.00         0\n",
            "   ROOM_AMENITIES#MISCELLANEOUS:neutral       0.00      0.00      0.00         0\n",
            "  ROOM_AMENITIES#MISCELLANEOUS:positive       0.00      0.00      0.00         3\n",
            "         ROOM_AMENITIES#PRICES:negative       0.00      0.00      0.00         6\n",
            "          ROOM_AMENITIES#PRICES:neutral       0.00      0.00      0.00         0\n",
            "         ROOM_AMENITIES#PRICES:positive       0.00      0.00      0.00         1\n",
            "        ROOM_AMENITIES#QUALITY:negative       0.50      0.04      0.07        51\n",
            "         ROOM_AMENITIES#QUALITY:neutral       0.00      0.00      0.00         2\n",
            "        ROOM_AMENITIES#QUALITY:positive       0.00      0.00      0.00        69\n",
            "               SERVICE#GENERAL:negative       0.67      0.04      0.08       137\n",
            "                SERVICE#GENERAL:neutral       0.00      0.00      0.00        62\n",
            "               SERVICE#GENERAL:positive       0.90      0.95      0.92      1112\n",
            "\n",
            "                              micro avg       0.89      0.39      0.54      7042\n",
            "                              macro avg       0.27      0.07      0.09      7042\n",
            "                           weighted avg       0.74      0.39      0.44      7042\n",
            "                            samples avg       0.72      0.41      0.50      7042\n",
            "\n"
          ]
        },
        {
          "output_type": "stream",
          "name": "stderr",
          "text": [
            "/usr/local/lib/python3.7/dist-packages/sklearn/metrics/_classification.py:1272: UndefinedMetricWarning: Precision and F-score are ill-defined and being set to 0.0 in labels with no predicted samples. Use `zero_division` parameter to control this behavior.\n",
            "  _warn_prf(average, modifier, msg_start, len(result))\n",
            "/usr/local/lib/python3.7/dist-packages/sklearn/metrics/_classification.py:1272: UndefinedMetricWarning: Recall and F-score are ill-defined and being set to 0.0 in labels with no true samples. Use `zero_division` parameter to control this behavior.\n",
            "  _warn_prf(average, modifier, msg_start, len(result))\n",
            "/usr/local/lib/python3.7/dist-packages/sklearn/metrics/_classification.py:1272: UndefinedMetricWarning: Precision and F-score are ill-defined and being set to 0.0 in samples with no predicted labels. Use `zero_division` parameter to control this behavior.\n",
            "  _warn_prf(average, modifier, msg_start, len(result))\n",
            "/usr/local/lib/python3.7/dist-packages/sklearn/metrics/_classification.py:1272: UndefinedMetricWarning: Recall and F-score are ill-defined and being set to 0.0 in samples with no true labels. Use `zero_division` parameter to control this behavior.\n",
            "  _warn_prf(average, modifier, msg_start, len(result))\n"
          ]
        }
      ]
    },
    {
      "cell_type": "code",
      "metadata": {
        "colab": {
          "base_uri": "https://localhost:8080/"
        },
        "id": "dU3bKXEl6UsT",
        "outputId": "d817aed6-fe8c-437b-b4de-79cfcee5f225"
      },
      "source": [
        "text = \"Khách sạn đẹp quá. Nhân viên thân thiện, ví trí thuận tiện. Nhưng giá hơi cao, nên chỉ đánh giá 4 sao.\"\n",
        "result = model.predict([text])\n",
        "show_label(result[0])"
      ],
      "execution_count": 282,
      "outputs": [
        {
          "output_type": "stream",
          "name": "stdout",
          "text": [
            "['HOTEL#DESIGN&FEATURES:positive', 'SERVICE#GENERAL:positive']\n"
          ]
        }
      ]
    }
  ]
}